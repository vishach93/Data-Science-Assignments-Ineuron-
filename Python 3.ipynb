{
 "cells": [
  {
   "cell_type": "markdown",
   "id": "62c56bc7",
   "metadata": {},
   "source": [
    "<B>Problem_1.1 Write a Python Program to implement your own myreduce() function which works exactly like Python's built-in function reduce()"
   ]
  },
  {
   "cell_type": "code",
   "execution_count": 16,
   "id": "d2b47b64",
   "metadata": {},
   "outputs": [
    {
     "name": "stdout",
     "output_type": "stream",
     "text": [
      "Output with original reduce function:  141\n",
      "Output with custom myreduce function: : 141\n"
     ]
    }
   ],
   "source": [
    "#Creating custom myreduce function\n",
    "\n",
    "def myreduce(add,list_1):\n",
    "    ''' This functionm will return sum of n Natural numbers'''\n",
    "    return a\n",
    "def add(a,b):\n",
    "    return a+b\n",
    "list_1=[10,20,30,40,50]\n",
    "a=list_1[0]\n",
    "\n",
    "for i in range(1, len(list_1)):\n",
    "    b=list_1[i]\n",
    "    a=add(a,b)\n",
    "    \n",
    "print(\"Output with original reduce function: \",reduce(add, list_1))\n",
    "print(\"Output with custom myreduce function: :\",myreduce(add, list_1))"
   ]
  },
  {
   "cell_type": "code",
   "execution_count": 18,
   "id": "fd5a3401",
   "metadata": {},
   "outputs": [
    {
     "data": {
      "text/plain": [
       "141"
      ]
     },
     "execution_count": 18,
     "metadata": {},
     "output_type": "execute_result"
    }
   ],
   "source": [
    "#Executing function\n",
    "myreduce(add,[1,2,3,4,5])"
   ]
  },
  {
   "cell_type": "code",
   "execution_count": 8,
   "id": "a923ccbe",
   "metadata": {},
   "outputs": [
    {
     "name": "stdout",
     "output_type": "stream",
     "text": [
      "Output:\n",
      "List of numbers: [1, 2, 3, 4, 5, 6, 7, 8, 9]\n",
      "List of Even numbers are: [2, 4, 6, 8]\n",
      "List of Odd numbers are: [1, 3, 5, 7, 9]\n"
     ]
    }
   ],
   "source": [
    "#Creating custom myfilter function\n",
    "\n",
    "num_list=[1,2,3,4,5,6,7,8,9]\n",
    "\n",
    "def myfilter(num_list):\n",
    "    '''This function will filter even and odd numbers from list.'''\n",
    "    num_even_list=[]\n",
    "    num_odd_list=[]\n",
    "    \n",
    "    for i in num_list:\n",
    "        if(i%2==0):\n",
    "              num_even_list.append(i)\n",
    "        else:\n",
    "            num_odd_list.append(i)\n",
    "                \n",
    "    return num_even_list,num_odd_list\n",
    "\n",
    "              \n",
    "#Function Execution\n",
    "output_value=myfilter(num_list)\n",
    "\n",
    "#Output\n",
    "\n",
    "print(\"Output:\")\n",
    "print(\"List of numbers:\",num_list)\n",
    "print(\"List of Even numbers are:\",output_value[0])\n",
    "print(\"List of Odd numbers are:\",output_value[1])"
   ]
  },
  {
   "cell_type": "code",
   "execution_count": 9,
   "id": "9dbb344a",
   "metadata": {},
   "outputs": [
    {
     "data": {
      "text/plain": [
       "([2, 4, 6, 8], [1, 3, 5, 7, 9])"
      ]
     },
     "execution_count": 9,
     "metadata": {},
     "output_type": "execute_result"
    }
   ],
   "source": [
    "#Executing function\n",
    "myfilter([1, 2, 3, 4, 5, 6, 7, 8, 9])"
   ]
  },
  {
   "cell_type": "markdown",
   "id": "9cae8fa9",
   "metadata": {},
   "source": [
    "<B>Q3. Write List comprehensions to produce the following Lists"
   ]
  },
  {
   "cell_type": "code",
   "execution_count": 29,
   "id": "0a7a5ec6",
   "metadata": {},
   "outputs": [
    {
     "name": "stdout",
     "output_type": "stream",
     "text": [
      "output1: ['x', 'xx', 'xxx', 'xxxx', 'y', 'yy', 'yyy', 'yyyy', 'z', 'zz', 'zzz', 'zzzz']\n",
      "output2: ['x', 'y', 'z', 'xx', 'yy', 'zz', 'xxx', 'yyy', 'zzz', 'xxxx', 'yyyy', 'zzzz']\n",
      "output3: [[2], [3], [4], [3], [4], [5], [4], [5], [6]]\n",
      "output4: [[2, 3, 4, 5], [3, 4, 5, 6], [4, 5, 6, 7], [5, 6, 7, 8]]\n",
      "output5: [(1, 1), (2, 1), (3, 1), (1, 2), (2, 2), (3, 2), (1, 3), (2, 3), (3, 3)]\n"
     ]
    }
   ],
   "source": [
    "#list comprehensions\n",
    "\n",
    "word_lst=('xyz')\n",
    "output=[ele*num for ele in word_lst for num in range(1,5)]\n",
    "print(\"output1:\",output)\n",
    "\n",
    "output2=[ele*num for num in range(1,5) for ele in word_lst]\n",
    "print(\"output2:\",output2)\n",
    "\n",
    "num_lst=[2,3,4]\n",
    "output3=[[ele+num] for ele in num_lst for num in range(3)]\n",
    "print(\"output3:\",output3)\n",
    "\n",
    "num_lst2=[2,3,4,5]\n",
    "output4=[[ele+num for num in range(0,4)] for ele in num_lst2]\n",
    "print(\"output4:\",output4)\n",
    "\n",
    "\n",
    "num_lst3=[1,2,3]\n",
    "output5=[(ele,num) for num in num_lst3 for ele in num_lst3]\n",
    "print(\"output5:\",output5)"
   ]
  }
 ],
 "metadata": {
  "kernelspec": {
   "display_name": "Python 3",
   "language": "python",
   "name": "python3"
  },
  "language_info": {
   "codemirror_mode": {
    "name": "ipython",
    "version": 3
   },
   "file_extension": ".py",
   "mimetype": "text/x-python",
   "name": "python",
   "nbconvert_exporter": "python",
   "pygments_lexer": "ipython3",
   "version": "3.8.8"
  }
 },
 "nbformat": 4,
 "nbformat_minor": 5
}
