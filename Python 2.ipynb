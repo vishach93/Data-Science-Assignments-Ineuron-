{
 "cells": [
  {
   "cell_type": "code",
   "execution_count": 36,
   "id": "b616a32f",
   "metadata": {},
   "outputs": [
    {
     "name": "stdout",
     "output_type": "stream",
     "text": [
      "*\n",
      "**\n",
      "***\n",
      "****\n",
      "*****\n",
      "******\n",
      "*******\n",
      "********\n",
      "*********\n",
      "**********\n",
      "*********\n",
      "********\n",
      "*******\n",
      "******\n",
      "*****\n",
      "****\n",
      "***\n",
      "**\n",
      "*\n",
      "\n"
     ]
    }
   ],
   "source": [
    "#Q1 Make a Left triangle \n",
    "\n",
    "n=10\n",
    "#upper triangle\n",
    "for i in range(n):\n",
    "    for j in range(i+1):\n",
    "        print('*', end=\"\") \n",
    "    print()\n",
    "    \n",
    "#Lower triangle\n",
    "for i in range(n):\n",
    "    for j in range(n-i-1):\n",
    "        print('*', end=\"\")\n",
    "    print()"
   ]
  },
  {
   "cell_type": "code",
   "execution_count": 37,
   "id": "1bea8fdd",
   "metadata": {},
   "outputs": [
    {
     "name": "stdout",
     "output_type": "stream",
     "text": [
      "Enter word here:hello world\n",
      "The original string  is : hello world\n",
      "The reversed string is : dlrow olleh\n"
     ]
    }
   ],
   "source": [
    "# Function to reverse a string\n",
    "\n",
    "def reverse(string):\n",
    "    string = string[::-1]\n",
    "    return string\n",
    "  \n",
    "s = input(\"Enter word here:\")\n",
    "  \n",
    "print (\"The original string  is : \",end=\"\")\n",
    "print (s)\n",
    "  \n",
    "print (\"The reversed string is : \",end=\"\")\n",
    "print (reverse(s))"
   ]
  }
 ],
 "metadata": {
  "kernelspec": {
   "display_name": "Python 3",
   "language": "python",
   "name": "python3"
  },
  "language_info": {
   "codemirror_mode": {
    "name": "ipython",
    "version": 3
   },
   "file_extension": ".py",
   "mimetype": "text/x-python",
   "name": "python",
   "nbconvert_exporter": "python",
   "pygments_lexer": "ipython3",
   "version": "3.8.8"
  }
 },
 "nbformat": 4,
 "nbformat_minor": 5
}
