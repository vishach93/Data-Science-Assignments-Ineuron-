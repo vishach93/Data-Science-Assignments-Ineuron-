{
 "cells": [
  {
   "cell_type": "markdown",
   "id": "a90ec46b",
   "metadata": {},
   "source": [
    "<B>\n",
    "1. Write a function to compute 5/0 and use try/except to catch the exceptions."
   ]
  },
  {
   "cell_type": "code",
   "execution_count": 7,
   "id": "13bd361b",
   "metadata": {},
   "outputs": [
    {
     "name": "stdout",
     "output_type": "stream",
     "text": [
      "The number is not divisible by zero\n",
      "An exception has occured as division by zero action has been attempted\n"
     ]
    }
   ],
   "source": [
    "def DivideByZero(x,y):\n",
    "    \n",
    "    try:\n",
    "        x/y\n",
    "    except ZeroDivisionError as e:\n",
    "        print(\"The number is not divisible by zero\")\n",
    "        print(\"An exception has occured as\",e,\"action has been attempted\")\n",
    "\n",
    "#Set Variables\n",
    "x,y=5,0\n",
    "\n",
    "#Function Execution\n",
    "DivideByZero(x,y)\n",
    "    "
   ]
  },
  {
   "cell_type": "markdown",
   "id": "339c191d",
   "metadata": {},
   "source": [
    "<B>\n",
    "_______________________________________________________________________________________________________________________________\n",
    "\n",
    "Problem_2-:Implement a Python program to generate all sentences where subject is in [\"Americans\", \"Indians\"] and verb is in [\"Play\", \"watch\"] and the object is in [\"Baseball\",\"cricket\"].\n",
    "\n",
    "\n",
    "Exptected Output  :                       \n",
    "+ Americans play Baseball.\n",
    "+ Americans play Cricket.\n",
    "+ Americans watch Baseball.\n",
    "+ Americans watch Cricket.\n",
    "+ Indians play Baseball.\n",
    "+ Indians play Cricket.\n",
    "+ Indians watch Baseball.\n",
    "+ Indians watch Cricket."
   ]
  },
  {
   "cell_type": "code",
   "execution_count": 15,
   "id": "2189cf73",
   "metadata": {},
   "outputs": [
    {
     "name": "stdout",
     "output_type": "stream",
     "text": [
      "Output:\n",
      "Americans play Baseball.\n",
      "Americans play Cricket.\n",
      "Americans watch Baseball.\n",
      "Americans watch Cricket.\n",
      "Indians play Baseball.\n",
      "Indians play Cricket.\n",
      "Indians watch Baseball.\n",
      "Indians watch Cricket.\n"
     ]
    }
   ],
   "source": [
    "#solution\n",
    "\n",
    "subjects=[\"Americans\",\"Indians\"]\n",
    "verbs=[\"play\",\"watch\"]\n",
    "objects=[\"Baseball\",\"Cricket\"]\n",
    "\n",
    "#List Comprehension\n",
    "Syntax = [(Sub+\" \"+vrb+\" \"+Obj+ \".\") for Sub in subjects for vrb in verbs for Obj in objects]\n",
    "\n",
    "#for Loop for Iteration\n",
    "print(\"Output:\")\n",
    "\n",
    "for syn in Syntax:\n",
    "    print(syn)"
   ]
  }
 ],
 "metadata": {
  "kernelspec": {
   "display_name": "Python 3",
   "language": "python",
   "name": "python3"
  },
  "language_info": {
   "codemirror_mode": {
    "name": "ipython",
    "version": 3
   },
   "file_extension": ".py",
   "mimetype": "text/x-python",
   "name": "python",
   "nbconvert_exporter": "python",
   "pygments_lexer": "ipython3",
   "version": "3.8.8"
  }
 },
 "nbformat": 4,
 "nbformat_minor": 5
}
