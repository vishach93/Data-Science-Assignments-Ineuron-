{
 "cells": [
  {
   "cell_type": "markdown",
   "id": "62c56bc7",
   "metadata": {},
   "source": [
    "<B>1.1 Write a Python Program(with class concepts) to find the area of the triangle using the below formula.\n",
    "\n",
    "area = (s*(s-a)*(s-b)*(s-c)) ** 0.5"
   ]
  },
  {
   "cell_type": "code",
   "execution_count": 56,
   "id": "17270736",
   "metadata": {},
   "outputs": [
    {
     "name": "stdout",
     "output_type": "stream",
     "text": [
      "Enter value of a = 6\n",
      "Enter value of b = 7\n",
      "Enter value of c = 9\n",
      "Area of the triangle is : 20.97617696340303\n"
     ]
    }
   ],
   "source": [
    "class geometry:\n",
    "    def __init__(self, a, b, c):\n",
    "        ''' This method has been used as an self constructor for Traingle class'''\n",
    "        self.a=float(input(\"Enter value of a = \"))\n",
    "        self.b=float(input(\"Enter value of b = \"))\n",
    "        self.c=float(input(\"Enter value of c = \"))\n",
    "        \n",
    "class triangle(geometry):\n",
    "    '''This method will inherit properties and attrivutes from Parent class''' \n",
    "    def __init__(self, a,b,c):\n",
    "        super().__init__(a,b,c)\n",
    "\n",
    "    def area_triangle(self):\n",
    "        '''This method will return an Area of Triangle'''\n",
    "        s=(self.a + self.b + self.c) / 2\n",
    "        return float((s * (s - self.a) * (s - self.b) * (s - self.c))) ** 0.5\n",
    "    \n",
    "# Create object of Sub class triangle()   \n",
    "t = triangle(a,b,c)\n",
    "print(\"Area of the triangle is :\",t.area_triangle())"
   ]
  },
  {
   "cell_type": "markdown",
   "id": "cad1d0ef",
   "metadata": {},
   "source": [
    "<B>\n",
    "    ___________________________________________________________________________________________________________________________\n",
    "   \n",
    "1.2 Write a function filter_long_words() that takes a list of words and an integer n and returns the list of words that are longer than n."
   ]
  },
  {
   "cell_type": "code",
   "execution_count": 63,
   "id": "8f108b36",
   "metadata": {},
   "outputs": [
    {
     "name": "stdout",
     "output_type": "stream",
     "text": [
      "Input:\n",
      "Please enter your words: Taj Mahal, Bhopal , City, Ajmer\n",
      "Please enter your number: 4\n",
      "\n",
      " Output:\n",
      "\n",
      " The List of longest words , which  are longer than 4 is :\n"
     ]
    },
    {
     "data": {
      "text/plain": [
       "['Taj Mahal', 'Bhopal', 'Ajmer']"
      ]
     },
     "execution_count": 63,
     "metadata": {},
     "output_type": "execute_result"
    }
   ],
   "source": [
    "\n",
    "#Function to Filter words based on length (n)\n",
    "def filter_long_words(WordList,n):\n",
    "    ''' This function returns list of words are longer than Argument n . \n",
    "    Note : n has been considerd has an integer'''\n",
    "    \n",
    "    #List Comprehensions\n",
    "    Wordlist=[x.strip() for x in WordList if len(x.strip())>n]\n",
    "    \n",
    "    if(len(Wordlist)>0):\n",
    "        print(\"\\n Output:\")\n",
    "        print(\"\\n The List of longest words , which  are longer than \"+str(n)+\" is :\")\n",
    "        return Wordlist\n",
    "    else:\n",
    "        return \"No Words longer than specified number \"+str(n)\n",
    "    \n",
    "#Ask user's Input\n",
    "print(\"Input:\")\n",
    "string= input(\"Please enter your words: \")\n",
    "number= int(input(\"Please enter your number: \"))\n",
    "\n",
    "# Split the words by \",\" comma and convert into list\n",
    "list_Of_Words = list(string.split(\",\"))\n",
    "#Function Execution\n",
    "filter_long_words(list_Of_Words,number)"
   ]
  },
  {
   "cell_type": "markdown",
   "id": "b62a8845",
   "metadata": {},
   "source": [
    "<B>\n",
    "    ___________________________________________________________________________________________________________________________\n",
    "\n",
    "    \n",
    "+ 2.1 Write a Python program using function concept that maps list of words into a list of integers representing the lengths of the corresponding words . \n",
    "+ Hint: If a list [ ab,cde,erty] is passed on to the python function output should come as [2,3,4] Here 2,3 and 4 are the lengths of the words in the list."
   ]
  },
  {
   "cell_type": "code",
   "execution_count": 100,
   "id": "a6a9555a",
   "metadata": {},
   "outputs": [
    {
     "name": "stdout",
     "output_type": "stream",
     "text": [
      "Enter words here: doon, wee, irokhe, phabhonii?\n",
      "Output: Length of Words are : [4, 2, 6, 9]\n"
     ]
    }
   ],
   "source": [
    "#Function to map length of words with words\n",
    "def word_length(List):\n",
    "    ''' This function Map's the words with their corresponding length'''\n",
    "    return list(map(len, List))\n",
    "    \n",
    "word_List=list(input(\"Enter words here: \").split(\",\"))\n",
    "\n",
    "#List Comprehension has been done to remove white trailing white spaces\n",
    "\n",
    "Lst=[x.strip() for x in word_List]\n",
    "\n",
    "#Function Execution\n",
    "words_Length= word_length(List)\n",
    "\n",
    "print(\"Output: Length of Words are :\",words_Length)\n",
    "               "
   ]
  },
  {
   "cell_type": "markdown",
   "id": "71345e64",
   "metadata": {},
   "source": [
    "<B>\n",
    "    ___________________________________________________________________________________________________________________________\n",
    "\n",
    "2.2 Write a Python function which takes a character (i.e. a string of length 1) and returns True if\n",
    "it is a vowel, False otherwise."
   ]
  },
  {
   "cell_type": "code",
   "execution_count": 107,
   "id": "ea54fc52",
   "metadata": {},
   "outputs": [
    {
     "name": "stdout",
     "output_type": "stream",
     "text": [
      "Enter Alphabet: u\n",
      "Output Value: True\n"
     ]
    }
   ],
   "source": [
    "def vowel_checker(inputchar):\n",
    "    '''This function will return True/False based upon input character provided by user'''\n",
    "    return_value=\" \"\n",
    "    \n",
    "    if(len(inputchar)==1):\n",
    "        vowel_list=['a','e','i','o','u']\n",
    "        \n",
    "        if(inputchar.lower() in vowel_list):\n",
    "            return_value = True\n",
    "        else:\n",
    "            return_value = False\n",
    "    \n",
    "    else:\n",
    "        return_value=\"Please Enter Single Alphabet Only!\"\n",
    "        \n",
    "    return return_value\n",
    "\n",
    "\n",
    "#User Input\n",
    "\n",
    "input_value=input(\"Enter Alphabet: \")\n",
    "\n",
    "output_value=vowel_checker(input_value) \n",
    "\n",
    "print(\"Output Value:\",output_value)"
   ]
  },
  {
   "cell_type": "code",
   "execution_count": 106,
   "id": "42cf5450",
   "metadata": {},
   "outputs": [
    {
     "name": "stdout",
     "output_type": "stream",
     "text": [
      "Enter character to check that it is Vowel or not\n",
      "Input Value: f\n",
      "Output Value: False\n"
     ]
    }
   ],
   "source": [
    "print(\"Enter character to check that it is Vowel or not\")\n",
    "input_value = input(\"Input Value: \")\n",
    "\n",
    "#Function Execution\n",
    "output_value=vowel_checker(input_value) \n",
    "\n",
    "#Output\n",
    "print(\"Output Value:\",output_value)"
   ]
  }
 ],
 "metadata": {
  "kernelspec": {
   "display_name": "Python 3",
   "language": "python",
   "name": "python3"
  },
  "language_info": {
   "codemirror_mode": {
    "name": "ipython",
    "version": 3
   },
   "file_extension": ".py",
   "mimetype": "text/x-python",
   "name": "python",
   "nbconvert_exporter": "python",
   "pygments_lexer": "ipython3",
   "version": "3.8.8"
  }
 },
 "nbformat": 4,
 "nbformat_minor": 5
}
