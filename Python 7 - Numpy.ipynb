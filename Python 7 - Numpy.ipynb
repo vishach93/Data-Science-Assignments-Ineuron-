{
 "cells": [
  {
   "cell_type": "code",
   "execution_count": 1,
   "id": "ff4e5cc3",
   "metadata": {},
   "outputs": [],
   "source": [
    "#importing libraries\n",
    "import pandas as pd\n",
    "import numpy as np"
   ]
  },
  {
   "cell_type": "markdown",
   "id": "126179a8",
   "metadata": {},
   "source": [
    "<B>\n",
    "    \n",
    "Q1. Write a function so that the columns of the output matrix are powers of the input\n",
    "vector.\n",
    "\n",
    "HINT: Such a matrix with a geometric progression in each row is named for Alexandre-\n",
    "Theophile Vandermonde."
   ]
  },
  {
   "cell_type": "code",
   "execution_count": 15,
   "id": "fb439af0",
   "metadata": {},
   "outputs": [
    {
     "name": "stdout",
     "output_type": "stream",
     "text": [
      "Vander matrix of the input array in decreasing order of powers: \n",
      "\n",
      "[[  1   1   1   1   1]\n",
      " [ 16   8   4   2   1]\n",
      " [ 81  27   9   3   1]\n",
      " [256  64  16   4   1]]\n"
     ]
    }
   ],
   "source": [
    "#creating a matrix with output columns based on input vector (N)\n",
    "\n",
    "x=np.array([1,2,3,4])\n",
    "N=5\n",
    "\n",
    "print(\"Vander matrix of the input array in decreasing order of powers:\",\"\\n\")\n",
    "matrix=np.vander(x,N,increasing=False)\n",
    "print(matrix)"
   ]
  },
  {
   "cell_type": "code",
   "execution_count": 16,
   "id": "7d1ca1fc",
   "metadata": {},
   "outputs": [
    {
     "name": "stdout",
     "output_type": "stream",
     "text": [
      "Vander matrix of the input array in increasing order of powers: \n",
      "\n",
      "[[  1   1   1   1   1]\n",
      " [  1   2   4   8  16]\n",
      " [  1   3   9  27  81]\n",
      " [  1   4  16  64 256]]\n"
     ]
    }
   ],
   "source": [
    "print(\"Vander matrix of the input array in increasing order of powers:\",\"\\n\")\n",
    "matrix=np.vander(x,N,increasing=True)\n",
    "print(matrix)"
   ]
  },
  {
   "cell_type": "markdown",
   "id": "408306c8",
   "metadata": {},
   "source": [
    "<B>\n",
    "_______________________________________________________________________________________________________________________________    \n",
    "Q2. Write a function to find moving average in an array over a window:\n",
    "Test it over [3, 5, 7, 2, 8, 10, 11, 65, 72, 81, 99, 100, 150] and window of 3.\n"
   ]
  },
  {
   "cell_type": "code",
   "execution_count": 38,
   "id": "bc23d872",
   "metadata": {},
   "outputs": [],
   "source": [
    "#function for moving average\n",
    "def moving_avg(mylist,N):\n",
    "    asum=np.cumsum(mylist, dtype=float) #gets cumulative sum\n",
    "    \n",
    "    asum[N:]=asum[N:]-asum[:-N]   #breaking the array with \"N\" and subtracting to get results\n",
    "    return asum[N-1:]/N\n",
    "    \n",
    "mylist= [3, 5, 7, 2, 8, 10, 11, 65, 72, 81, 99, 100, 150]\n",
    "mylist1=np.array(mylist)\n",
    "N=3\n",
    "#moving average with rounding off\n",
    "mov_avg = np.array(moving_avg(mylist1,N=3)).round(2)"
   ]
  },
  {
   "cell_type": "code",
   "execution_count": 34,
   "id": "8e642176",
   "metadata": {},
   "outputs": [
    {
     "name": "stdout",
     "output_type": "stream",
     "text": [
      "The moving average of the sequence with the rolling window size 3 is: \n",
      "\n",
      " [  5.     4.67   5.67   6.67   9.67  28.67  49.33  72.67  84.    93.33\n",
      " 116.33]\n"
     ]
    }
   ],
   "source": [
    "mov_avg = np.array(moving_avg(mylist1,N=3)).round(2)\n",
    "\n",
    "print(\"The moving average of the sequence with the rolling window size 3 is:\",\"\\n\"\"\\n\", mov_avg)"
   ]
  }
 ],
 "metadata": {
  "kernelspec": {
   "display_name": "Python 3",
   "language": "python",
   "name": "python3"
  },
  "language_info": {
   "codemirror_mode": {
    "name": "ipython",
    "version": 3
   },
   "file_extension": ".py",
   "mimetype": "text/x-python",
   "name": "python",
   "nbconvert_exporter": "python",
   "pygments_lexer": "ipython3",
   "version": "3.8.8"
  }
 },
 "nbformat": 4,
 "nbformat_minor": 5
}
